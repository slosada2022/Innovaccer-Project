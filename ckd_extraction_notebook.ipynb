{
 "cells": [
  {
   "cell_type": "code",
   "execution_count": 18,
   "id": "08e3a233",
   "metadata": {},
   "outputs": [],
   "source": [
    "import pandas as pd\n"
   ]
  },
  {
   "cell_type": "markdown",
   "id": "6bc3558b",
   "metadata": {},
   "source": [
    "=== Load OMOP CDM tables ==="
   ]
  },
  {
   "cell_type": "code",
   "execution_count": 19,
   "id": "f71bf7f2",
   "metadata": {},
   "outputs": [],
   "source": [
    "concepts = pd.read_csv(\"ehrshot-omop/concept.csv\", low_memory=False)\n",
    "concept_relationship = pd.read_csv(\"ehrshot-omop/concept_relationship.csv\")\n",
    "condition = pd.read_csv(\"ehrshot-omop/condition_occurrence.csv\", low_memory=False)\n",
    "person = pd.read_csv(\"ehrshot-omop/person.csv\")"
   ]
  },
  {
   "cell_type": "markdown",
   "id": "19a721a7",
   "metadata": {},
   "source": [
    "=== Define CKD ICD-10 codes and mappings ==="
   ]
  },
  {
   "cell_type": "code",
   "execution_count": null,
   "id": "7ba46412",
   "metadata": {},
   "outputs": [],
   "source": [
    "ckd_icd10_codes = [\"N18.1\", \"N18.2\", \"N18.3\", \"N18.4\", \"N18.5\", \"N18.6\"]    #N18.9 is \"Unspecified\"\n",
    "related_codes = [\"N18.9\", \"N18.30\", \"N18.31\", \"N18.32\", \"Z99.2\", \"I12.0\", \"I13.11\", \"I13.2\"]\n",
    "ckd_icd10_codes.extend(related_codes)\n",
    "\n",
    "stage_map = {\n",
    "    \"N18.1\": \"Stage 1\", \"N18.2\": \"Stage 2\", \"N18.3\": \"Stage 3\",\n",
    "    \"N18.4\": \"Stage 4\", \"N18.5\": \"Stage 5\", \"N18.6\": \"ESRD\",\n",
    "}"
   ]
  },
  {
   "cell_type": "markdown",
   "id": "e11bf338",
   "metadata": {},
   "source": [
    "=== Map ICD-10 codes to SNOMED concept_ids ==="
   ]
  },
  {
   "cell_type": "code",
   "execution_count": null,
   "id": "361ad839",
   "metadata": {},
   "outputs": [],
   "source": [
    "ckd_icd10_concepts = concepts[      #find relevant ICD10 concepts \n",
    "    (concepts[\"vocabulary_id\"] == \"ICD10CM\") &\n",
    "    (concepts[\"concept_code\"].isin(ckd_icd10_codes))\n",
    "]\n",
    "\n",
    "mapped = concept_relationship[      #map ICD10 to snomed\n",
    "    (concept_relationship[\"relationship_id\"] == \"Maps to\") &\n",
    "    (concept_relationship[\"concept_id_1\"].isin(ckd_icd10_concepts[\"concept_id\"]))\n",
    "]\n",
    "\n",
    "ckd_snomed_concepts = concepts[concepts[\"concept_id\"].isin(mapped[\"concept_id_2\"])]"
   ]
  },
  {
   "cell_type": "markdown",
   "id": "215a8631",
   "metadata": {},
   "source": [
    "=== Identify CKD patients based on SNOMED concept_id ==="
   ]
  },
  {
   "cell_type": "code",
   "execution_count": null,
   "id": "d54a96fd",
   "metadata": {},
   "outputs": [],
   "source": [
    "ckd_concept_ids = ckd_snomed_concepts[\"concept_id\"].tolist()\n",
    "ckd_conditions = condition[condition[\"condition_concept_id\"].isin(ckd_concept_ids)].copy()\n",
    "ckd_patient_ids = ckd_conditions[\"person_id\"].unique()\n",
    "print(f\" Found {len(ckd_patient_ids)} unique CKD patients.\")"
   ]
  },
  {
   "cell_type": "markdown",
   "id": "32b72a15",
   "metadata": {},
   "source": [
    "=== Map SNOMED concept_id to CKD stage ==="
   ]
  },
  {
   "cell_type": "code",
   "execution_count": 87,
   "id": "8533e924",
   "metadata": {},
   "outputs": [],
   "source": [
    "concept_stage_map = {}\n",
    "for _, row in mapped.iterrows():\n",
    "    icd_code = ckd_icd10_concepts.loc[\n",
    "        ckd_icd10_concepts[\"concept_id\"] == row[\"concept_id_1\"], \"concept_code\"\n",
    "    ].values[0]\n",
    "    stage = stage_map.get(icd_code)\n",
    "    concept_stage_map[row[\"concept_id_2\"]] = stage\n",
    "\n",
    "\n",
    "#add ckd_stage column to ckd_conditions df\n",
    "ckd_conditions[\"ckd_stage\"] = ckd_conditions[\"condition_concept_id\"].map(concept_stage_map)\n",
    "ckd_conditions[\"condition_start_DATE\"] = pd.to_datetime(ckd_conditions[\"condition_start_DATE\"])"
   ]
  },
  {
   "cell_type": "markdown",
   "id": "281d82d8",
   "metadata": {},
   "source": [
    "=== Earliest diagnosis date per patient and stage ==="
   ]
  },
  {
   "cell_type": "code",
   "execution_count": null,
   "id": "df114ecd",
   "metadata": {},
   "outputs": [],
   "source": [
    "# Identify the earliest diagnosis date for each CKD stage per patient.\n",
    "stage_dates = (\n",
    "    ckd_conditions\n",
    "    .groupby([\"person_id\", \"ckd_stage\"])[\"condition_start_DATE\"]\n",
    "    .min()\n",
    "    .reset_index()\n",
    ")\n",
    "\n",
    "\n",
    "stage_order = [\"Stage 1\", \"Stage 2\", \"Stage 3\", \"Stage 4\", \"Stage 5\", \"ESRD\"]\n",
    "stage_dates[\"stage_order\"] = stage_dates[\"ckd_stage\"].apply(lambda x: stage_order.index(x))\n",
    "stage_dates = stage_dates.sort_values([\"person_id\", \"stage_order\"])\n",
    "\n",
    "stage_dates"
   ]
  },
  {
   "cell_type": "markdown",
   "id": "c34a03f5",
   "metadata": {},
   "source": [
    "=== Pivot to wide format: one row per patient ==="
   ]
  },
  {
   "cell_type": "code",
   "execution_count": null,
   "id": "434ec1df",
   "metadata": {},
   "outputs": [],
   "source": [
    "pivoted = stage_dates.pivot(index='person_id', columns='ckd_stage', values='condition_start_DATE')\n",
    "pivoted = pivoted.reindex(columns=stage_order)\n",
    "pivoted.reset_index()\n",
    "\n",
    "#pivoted.to_csv(\"results/ckd_stage_diagnoses.csv\")\n",
    "pivoted"
   ]
  },
  {
   "cell_type": "markdown",
   "id": "e24a6481",
   "metadata": {},
   "source": [
    "=== Determime inter-stage transition times for each patient ==="
   ]
  },
  {
   "cell_type": "code",
   "execution_count": null,
   "id": "bb5c8a5a",
   "metadata": {},
   "outputs": [],
   "source": [
    "ckd_stage_diagnoses = pd.read_csv(\"results/ckd_stage_diagnoses.csv\")\n",
    "\n",
    "#create a frame to hold inter-stage transition times\n",
    "stage_times = pd.DataFrame(columns=[\"person_id\", \"1 to 2\", \"2 to 3\", \"3 to 4\", \"4 to 5\", \"5 to End stage\"])\n",
    "\n",
    "#here, we iterate through the diagnosis dates to find the time each patient transitions between stages\n",
    "\n",
    "for row in ckd_stage_diagnoses.itertuples(index=False):\n",
    "\n",
    "    new_row = [row.person_id]\n",
    "\n",
    "    for i in range(2, len(row)): #iterate through each column (stage) of each row (patient)\n",
    "        next_stage = row[i]\n",
    "        prev_stage = row[i-1]\n",
    "        \n",
    "        if isinstance(next_stage, str) and isinstance(prev_stage, str): #if both stages aren't tracked, there's no transition time\n",
    "            new_row.append((pd.to_datetime(next_stage) - pd.to_datetime(prev_stage)).days)\n",
    "        else:\n",
    "            new_row.append(None)\n",
    "\n",
    "    stage_times.loc[len(stage_times)] = new_row\n",
    "\n",
    "#stage_times.to_csv(\"results/stage_times.csv\", index=False)\n",
    "stage_times"
   ]
  },
  {
   "cell_type": "markdown",
   "id": "6294e1ae",
   "metadata": {},
   "source": [
    " === Finally, find the mean and median of our transition times ==="
   ]
  },
  {
   "cell_type": "code",
   "execution_count": null,
   "id": "c7e8cd4e",
   "metadata": {},
   "outputs": [],
   "source": [
    "stage_times = pd.read_csv(\"results/stage_times.csv\").drop(columns=\"person_id\")\n",
    "\n",
    "transition_columns = stage_times.columns.to_list()  #exclude patient id column\n",
    "\n",
    "filtered_times = stage_times[transition_columns].where(stage_times[transition_columns] >= 0)\n",
    "\n",
    "summary = pd.DataFrame({\n",
    "    \"Raw Mean\": stage_times.mean(),\n",
    "    \"Raw Median\": stage_times.median(),\n",
    "    \"Filtered Mean\": filtered_times.mean(),\n",
    "    \"Filtered Median\": filtered_times.median(),\n",
    "}).T.round(2)\n",
    "\n",
    "#summary.to_csv(\"results/summary.csv\")\n",
    "summary"
   ]
  },
  {
   "cell_type": "markdown",
   "id": "ec3e48df",
   "metadata": {},
   "source": [
    "In conclusion, we found 1290 unique CKD patients. Our mean and median stage transition times can be found in the summary csv."
   ]
  }
 ],
 "metadata": {
  "kernelspec": {
   "display_name": ".venv",
   "language": "python",
   "name": "python3"
  },
  "language_info": {
   "codemirror_mode": {
    "name": "ipython",
    "version": 3
   },
   "file_extension": ".py",
   "mimetype": "text/x-python",
   "name": "python",
   "nbconvert_exporter": "python",
   "pygments_lexer": "ipython3",
   "version": "3.11.9"
  }
 },
 "nbformat": 4,
 "nbformat_minor": 5
}
